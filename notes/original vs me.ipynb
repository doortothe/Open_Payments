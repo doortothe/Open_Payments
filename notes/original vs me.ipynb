{
 "cells": [
  {
   "cell_type": "markdown",
   "metadata": {},
   "source": [
    "original:\n",
    "To address this difficulty, we programmatically match over 90% of the NPIs in the 2016 OP data set."
   ]
  },
  {
   "cell_type": "markdown",
   "metadata": {},
   "source": [
    "me:\n",
    "Matched: 506,520\n",
    "Out of: 637,825\n",
    "%: 79.41%"
   ]
  },
  {
   "cell_type": "markdown",
   "metadata": {},
   "source": [
    "Original: \n",
    "Based on name and address, we found exact matches for 90.4% of the unique providers appearing in the 2016 OP data, 374,766 of which also appear in the 2016 MPOS data. "
   ]
  },
  {
   "cell_type": "markdown",
   "metadata": {},
   "source": [
    "me:\n",
    "Of the 79.4% matched, 345,743\n",
    "off by: 29,023"
   ]
  },
  {
   "cell_type": "markdown",
   "metadata": {},
   "source": [
    "look into:\n",
    "Although this pattern was nonlinear across the full range of industry payments, it was approximately linear within the middle 50% of the distribution of payments, indicated by the orange shaded bands in Fig. 1."
   ]
  },
  {
   "cell_type": "markdown",
   "metadata": {},
   "source": [
    "Example of our data being notably different:\n",
    "\n",
    "NPI: 1003000142\n",
    "\n",
    "|Source|Number of HCPCS|Number of Medicare Beneficiaries|\n",
    "|---|---|---|\n",
    "|Original|43|208|\n",
    "|Me|9|438|"
   ]
  },
  {
   "cell_type": "markdown",
   "metadata": {},
   "source": [
    " original:\n",
    " as providers serving more beneficiaries tended to receive higher levels of industry investment"
   ]
  },
  {
   "cell_type": "markdown",
   "metadata": {},
   "source": [
    "me:\n",
    "\n",
    "confirm: log_hum_beneficiaries = 0.6"
   ]
  },
  {
   "cell_type": "markdown",
   "metadata": {},
   "source": [
    "original:\n",
    "\n",
    "We found that a 10% difference in industry payments was associated with ~1.3% higher total medical (non-drug) costs per provider, based on the estimate of β1 in Model 1 (see Methods section) of 0.131 (95% CI: (0.127, 0.136)). "
   ]
  },
  {
   "cell_type": "markdown",
   "metadata": {},
   "source": [
    "me:\n",
    "\n",
    "I found that a 10% difference in industry payments was associated with 0.13% higher total medical (non-drug) costs per provider, of 0.0137(95% CI: (0.009, 0.019)). Note: this value increased as I matched more NPIs. This leaves reason to presume that it will increase further as more data is entered."
   ]
  },
  {
   "cell_type": "markdown",
   "metadata": {},
   "source": [
    "original:\n",
    "\n",
    "To further test the robustness of the new association with medical costs, we re-estimated the association controlling for the provider’s total drug costs (Model 3). In this model (model 2), the estimate of β1 was 0.091 (95% CI: (0.086, 0.095)), so that a 10% difference in industry payments was associated with a 0.91% difference in medical costs, given fixed drug costs."
   ]
  },
  {
   "cell_type": "markdown",
   "metadata": {},
   "source": [
    "me:\n",
    "-0.005502 (95% CI: (-0.013  0.002). A 10% difference in industry payments was associated with no change in medical costs, given fixed drug costs. Note: this value became closer and closer to 0 as more data came in."
   ]
  },
  {
   "cell_type": "markdown",
   "metadata": {},
   "source": [
    "original:\n",
    "\n",
    "model 3:10% different in industry paymetns associated with 1.7% increased drug costs, controlling for num beneficiaries, and state. Estimate 0.179 (95% CI:(0.156, 0.202))"
   ]
  },
  {
   "cell_type": "markdown",
   "metadata": {},
   "source": [
    "me:\n",
    "\n",
    "model 3: 10% difference in industry payments associated with 1.0% increased drug costs, controlling for num beneficiaries and state. Estimate 0.101 (95% CI:(0.079, 0.123))."
   ]
  },
  {
   "cell_type": "markdown",
   "metadata": {},
   "source": [
    "original:\n",
    "\n",
    "First, it established that the association between industry payments and medical costs was not spurious or owing to the correlation between providers’ medical and drug costs (Spearman rank correlation = 0.41 among providers with non-zero drug costs)"
   ]
  },
  {
   "cell_type": "markdown",
   "metadata": {},
   "source": [
    "me: \n",
    "\n",
    "No correlation between industry payments and medical costs. Spearman rank correlation = -0.01453288 among providers with non-zero drug costs. Note: this value started at 0.19 but became close to zero as more data came in."
   ]
  },
  {
   "cell_type": "markdown",
   "metadata": {},
   "source": [
    "original:\n",
    "\n",
    "To put a 1.3% difference in total medical costs in context, consider a typical provider within the middle range of industry payments, with industry payments equal to the median of $250 and total Medicare medical costs equal to the median of $90,646. A 10% difference of $25 in industry payments would then be associated with an expected difference of ~$1,100 in total medical costs"
   ]
  },
  {
   "cell_type": "markdown",
   "metadata": {},
   "source": [
    "me:\n",
    "industry payments median: $191\n",
    "medical payment median: $850\n",
    "A 10% difference of $19 in industry payments would then be associated with an expected different of ~$1.1"
   ]
  },
  {
   "cell_type": "markdown",
   "metadata": {},
   "source": [
    "original:\n",
    "\n",
    "Controlling for drug costs, the expected difference in medical costs would be 0.91%, or $825"
   ]
  },
  {
   "cell_type": "markdown",
   "metadata": {},
   "source": [
    "me:\n",
    "\n",
    "Controlling for drug costs, the expected difference in medical costs would be nothing."
   ]
  },
  {
   "cell_type": "markdown",
   "metadata": {},
   "source": [
    "original:\n",
    "61% of the providers in this analysis had no drug costs."
   ]
  },
  {
   "cell_type": "markdown",
   "metadata": {},
   "source": [
    "me:\n",
    "\n",
    "113,000 have drug costs\n",
    "229,166 have no drug costs\n",
    "70% of the providers in this analysis had no drug costs."
   ]
  },
  {
   "cell_type": "markdown",
   "metadata": {},
   "source": [
    "original:\n",
    "\n",
    "Among providers within the middle range of industry payments, the median non-zero drug costs were $5,862, so that a 10% difference in industry payments would be associated with a difference in drug costs of 1.8% or ~$100."
   ]
  },
  {
   "cell_type": "markdown",
   "metadata": {},
   "source": [
    "me:\n",
    "\n",
    "median, non-zero drug costs: 53.93476\n",
    "difference in drug costs: 1.0%\n",
    "dollar amoutn difference: ~$0.53"
   ]
  },
  {
   "cell_type": "markdown",
   "metadata": {},
   "source": [
    "##  Geographical variation in the payments-costs association"
   ]
  },
  {
   "cell_type": "markdown",
   "metadata": {},
   "source": [
    "original:\n",
    "\n",
    "Indeed, the estimated state-level log–log regression slope varied markedly, ranging from  approximately 0.06 in Maine and Nevada to over 0.22 in Louisiana. That is, a 10% difference in industry payments to a provider would be associated with an estimated 2.2% difference in medical costs in Louisiana but only a 0.6% difference in Maine or Nevada."
   ]
  },
  {
   "cell_type": "markdown",
   "metadata": {},
   "source": [
    "me:\n",
    "\n",
    "range from -0.08 in Utah to 0.15 in Minnesota. A 10% difference in industry payments to a provider would be associated with -0.8% difference in medical costs in Utah, and 1.5% difference in Minnesota."
   ]
  },
  {
   "cell_type": "markdown",
   "metadata": {},
   "source": [
    "original:\n",
    "\n",
    "average pcor: 0.26"
   ]
  },
  {
   "cell_type": "markdown",
   "metadata": {},
   "source": [
    "me:\n",
    "\n",
    "average pcor: 0.10"
   ]
  },
  {
   "cell_type": "markdown",
   "metadata": {},
   "source": [
    "original:\n",
    "\n",
    "Among several key political, economic and social factors, conservative advantage was the most strongly correlated with rk"
   ]
  },
  {
   "cell_type": "markdown",
   "metadata": {},
   "source": [
    "me:\n",
    "\n",
    "can confirm that the log-reg coefficient is highest for conservative, at -0.72"
   ]
  },
  {
   "cell_type": "markdown",
   "metadata": {},
   "source": [
    "original:\n",
    "\n",
    "Conservative advantage showed the strongest association with rk among all continuous variables (0.706; p = 0.001), indicating a strong association between a state’s conservative leaning and the strength of the payments–costs relationship after controlling for other important state-level factors."
   ]
  },
  {
   "cell_type": "markdown",
   "metadata": {},
   "source": [
    "me:\n",
    "\n",
    "conservative advantage: -0.72144; p = 0.00539. Second: medianhouseholdIncome: -0.55395; p = 0.01747"
   ]
  },
  {
   "cell_type": "markdown",
   "metadata": {},
   "source": [
    "original:\n",
    "\n",
    "The McKinsey & Co. health rankings were not statistically significant when considered jointly using an F test (degrees of freedom = 43 and 3) against the null hypothesis that all three coefficients are zero (F = 1.903; p = 0.145), though individually some groups showed effects trending toward significance (see Supplementary Table 2). T"
   ]
  },
  {
   "cell_type": "markdown",
   "metadata": {},
   "source": [
    "me:\n",
    "\n",
    "I don't know what that means"
   ]
  }
 ],
 "metadata": {
  "kernelspec": {
   "display_name": "Python 3",
   "language": "python",
   "name": "python3"
  },
  "language_info": {
   "codemirror_mode": {
    "name": "ipython",
    "version": 3
   },
   "file_extension": ".py",
   "mimetype": "text/x-python",
   "name": "python",
   "nbconvert_exporter": "python",
   "pygments_lexer": "ipython3",
   "version": "3.8.5"
  }
 },
 "nbformat": 4,
 "nbformat_minor": 4
}
