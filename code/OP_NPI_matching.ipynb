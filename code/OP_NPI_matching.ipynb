{
 "cells": [
  {
   "cell_type": "markdown",
   "metadata": {},
   "source": [
    "# Assign NPIs!"
   ]
  },
  {
   "cell_type": "code",
   "execution_count": 1,
   "metadata": {},
   "outputs": [],
   "source": [
    "from google.cloud import bigquery\n",
    "import pandas as pd\n",
    "import numpy as np\n",
    "from sodapy import Socrata"
   ]
  },
  {
   "cell_type": "markdown",
   "metadata": {},
   "source": [
    "Get the 2016 open payments dataset"
   ]
  },
  {
   "cell_type": "code",
   "execution_count": 2,
   "metadata": {},
   "outputs": [],
   "source": [
    "%%bigquery df\n",
    "SELECT \n",
    "    Covered_Recipient_Type, \n",
    "    Teaching_Hospital_Name, \n",
    "    Physician_First_name, \n",
    "    Physician_Last_Name,\n",
    "    Recipient_Primary_Business_Street_Address_Line1, \n",
    "    Recipient_City\n",
    "FROM `carbide-server-294318.op2016.OP2016`"
   ]
  },
  {
   "cell_type": "code",
   "execution_count": null,
   "metadata": {},
   "outputs": [],
   "source": [
    "%%bigquery npis\n",
    "SELECT\n",
    "\n",
    "FROM `carbide-server-294318.op2016.NPIs`"
   ]
  },
  {
   "cell_type": "markdown",
   "metadata": {},
   "source": [
    "Modify the columns slightly"
   ]
  },
  {
   "cell_type": "code",
   "execution_count": 26,
   "metadata": {},
   "outputs": [
    {
     "data": {
      "text/html": [
       "<div>\n",
       "<style scoped>\n",
       "    .dataframe tbody tr th:only-of-type {\n",
       "        vertical-align: middle;\n",
       "    }\n",
       "\n",
       "    .dataframe tbody tr th {\n",
       "        vertical-align: top;\n",
       "    }\n",
       "\n",
       "    .dataframe thead th {\n",
       "        text-align: right;\n",
       "    }\n",
       "</style>\n",
       "<table border=\"1\" class=\"dataframe\">\n",
       "  <thead>\n",
       "    <tr style=\"text-align: right;\">\n",
       "      <th></th>\n",
       "      <th>covered_recipient_type</th>\n",
       "      <th>teaching_hospital_name</th>\n",
       "      <th>physician_first_name</th>\n",
       "      <th>physician_last_name</th>\n",
       "      <th>recipient_primary_business_street_address_line1</th>\n",
       "      <th>recipient_city</th>\n",
       "      <th>npi</th>\n",
       "    </tr>\n",
       "  </thead>\n",
       "  <tbody>\n",
       "    <tr>\n",
       "      <th>0</th>\n",
       "      <td>Covered Recipient Physician</td>\n",
       "      <td>None</td>\n",
       "      <td>SAUNDERS</td>\n",
       "      <td>HUPP</td>\n",
       "      <td>601 PROVIDENCE PARK DR E</td>\n",
       "      <td>MOBILE</td>\n",
       "      <td>NaN</td>\n",
       "    </tr>\n",
       "    <tr>\n",
       "      <th>1</th>\n",
       "      <td>Covered Recipient Physician</td>\n",
       "      <td>None</td>\n",
       "      <td>GARLAN</td>\n",
       "      <td>LO</td>\n",
       "      <td>1850 S AZUSA AVE</td>\n",
       "      <td>HACIENDA HEIGHTS</td>\n",
       "      <td>NaN</td>\n",
       "    </tr>\n",
       "    <tr>\n",
       "      <th>2</th>\n",
       "      <td>Covered Recipient Physician</td>\n",
       "      <td>None</td>\n",
       "      <td>GENE</td>\n",
       "      <td>KIM</td>\n",
       "      <td>6400 FANNIN ST</td>\n",
       "      <td>HOUSTON</td>\n",
       "      <td>NaN</td>\n",
       "    </tr>\n",
       "    <tr>\n",
       "      <th>3</th>\n",
       "      <td>Covered Recipient Physician</td>\n",
       "      <td>None</td>\n",
       "      <td>RAJIV</td>\n",
       "      <td>LUTHRA</td>\n",
       "      <td>2440 M ST NW</td>\n",
       "      <td>WASHINGTON</td>\n",
       "      <td>NaN</td>\n",
       "    </tr>\n",
       "    <tr>\n",
       "      <th>4</th>\n",
       "      <td>Covered Recipient Physician</td>\n",
       "      <td>None</td>\n",
       "      <td>STEVEN</td>\n",
       "      <td>GOLDENBERG</td>\n",
       "      <td>48 HARRISON STREET</td>\n",
       "      <td>JOHNSON CITY</td>\n",
       "      <td>NaN</td>\n",
       "    </tr>\n",
       "  </tbody>\n",
       "</table>\n",
       "</div>"
      ],
      "text/plain": [
       "        covered_recipient_type teaching_hospital_name physician_first_name  \\\n",
       "0  Covered Recipient Physician                   None             SAUNDERS   \n",
       "1  Covered Recipient Physician                   None               GARLAN   \n",
       "2  Covered Recipient Physician                   None                 GENE   \n",
       "3  Covered Recipient Physician                   None                RAJIV   \n",
       "4  Covered Recipient Physician                   None               STEVEN   \n",
       "\n",
       "  physician_last_name recipient_primary_business_street_address_line1  \\\n",
       "0                HUPP                        601 PROVIDENCE PARK DR E   \n",
       "1                  LO                                1850 S AZUSA AVE   \n",
       "2                 KIM                                  6400 FANNIN ST   \n",
       "3              LUTHRA                                    2440 M ST NW   \n",
       "4          GOLDENBERG                              48 HARRISON STREET   \n",
       "\n",
       "     recipient_city  npi  \n",
       "0            MOBILE  NaN  \n",
       "1  HACIENDA HEIGHTS  NaN  \n",
       "2           HOUSTON  NaN  \n",
       "3        WASHINGTON  NaN  \n",
       "4      JOHNSON CITY  NaN  "
      ]
     },
     "execution_count": 26,
     "metadata": {},
     "output_type": "execute_result"
    }
   ],
   "source": [
    "df.head()"
   ]
  },
  {
   "cell_type": "code",
   "execution_count": 5,
   "metadata": {
    "jupyter": {
     "source_hidden": true
    }
   },
   "outputs": [],
   "source": [
    "# NPI matching\n",
    "def npi_match(df):\n",
    "    # for loop to go through every row in the OP dataframe\n",
    "    # Source 3\n",
    "    for index, row in df.iterrows():\n",
    "\n",
    "        # Is the provider individual or enterprise?\n",
    "        if row.covered_recipient_type == 'Covered Recipient Teaching Hospital':\n",
    "            # Source 2\n",
    "            results = npi.search(search_params={'organization_name': row.teaching_hospital_name,\n",
    "                                                'address_purpose': 'PRIMARY',\n",
    "                                                'city': row.recipient_city})                       \n",
    "\n",
    "        if row.covered_recipient_type == 'Covered Recipient Physician':\n",
    "            # Source 2\n",
    "            results = npi.search(search_params={'first_name': row.physician_first_name,\n",
    "                                                'last_name': row.physician_last_name,\n",
    "                                                'address_purpose': 'PRIMARY',\n",
    "                                                'city': row.recipient_city})\n",
    "\n",
    "        # Iterate through the list of matches to find the exact match\n",
    "        matches = 0\n",
    "        for j in range(results['result_count']):\n",
    "            if results['results'][j]['addresses'][0]['address_1'] == row.recipient_primary_business_street_address_line1:\n",
    "                # We have a match!\n",
    "                matches += 1\n",
    "            \n",
    "            # End loop early if more than one match was found\n",
    "            if matches >= 1:\n",
    "                break\n",
    "\n",
    "        # Check to see if we only found one match\n",
    "        #if matches == 1:\n",
    "            #row.npi = results['results'][0]['number']\n",
    "            \n",
    "    return df"
   ]
  },
  {
   "cell_type": "code",
   "execution_count": 8,
   "metadata": {},
   "outputs": [
    {
     "data": {
      "text/plain": [
       "'Covered Recipient Physician'"
      ]
     },
     "execution_count": 8,
     "metadata": {},
     "output_type": "execute_result"
    }
   ],
   "source": [
    "df.iloc[0].covered_recipient_type"
   ]
  },
  {
   "cell_type": "code",
   "execution_count": null,
   "metadata": {},
   "outputs": [],
   "source": [
    "# Construct a BigQuery client object.\n",
    "client = bigquery.Client()\n",
    "\n",
    "op_query = \"\"\"\n",
    "    SELECT \n",
    "        Covered_Recipient_Type, \n",
    "        Teaching_Hospital_Name, \n",
    "        Physician_First_name, \n",
    "        Physician_Last_Name,\n",
    "        Recipient_Primary_Business_Street_Address_Line1, \n",
    "        Recipient_City\n",
    "    FROM `carbide-server-294318.op2016.OP2016`\n",
    "\"\"\"\n",
    "query_job = client.query(op_query)  # Make an API request.\n",
    "\n",
    "npi_query = \"\"\"\n",
    "    SELECT \n",
    "        NPI,\n",
    "        Provider_Organization_Name__Legal_Business_Name_,\n",
    "        Provider_Last_Name__Legal_Name_,\n",
    "        Provider_First_Name,\n",
    "        Provider_First_Line_Business_Practice_Location_Address,\n",
    "        Provider_Business_Practice_Location_Address_City_Name\n",
    "    FROM `carbide-server-294318.op2016.OP2016`\n",
    "\"\"\"\n",
    "\n",
    "print(\"The query data:\")\n",
    "for row in query_job:\n",
    "    # Row values can be accessed by field name or index.\n",
    "    if row.Covered_Recipient_Type == 'Covered Recipient Teaching Hospital':\n",
    "        # Search through npi database for NPI bassed off values in row\n",
    "    elif row.Covered_Recipient_Type == 'Covered Recipient Physician':\n",
    "        # Search through npi database for NPI bassed off values in row\n",
    "    "
   ]
  },
  {
   "cell_type": "code",
   "execution_count": 8,
   "metadata": {},
   "outputs": [
    {
     "data": {
      "text/plain": [
       "covered_recipient_type                                    0\n",
       "teaching_hospital_name                             11655341\n",
       "physician_first_name                                  41825\n",
       "physician_last_name                                   41825\n",
       "recipient_primary_business_street_address_line1           0\n",
       "recipient_city                                            0\n",
       "recipient_state                                         598\n",
       "recipient_state_1                                       598\n",
       "npi                                                11697166\n",
       "dtype: int64"
      ]
     },
     "execution_count": 8,
     "metadata": {},
     "output_type": "execute_result"
    }
   ],
   "source": [
    "df.isnull().sum()"
   ]
  },
  {
   "cell_type": "markdown",
   "metadata": {},
   "source": [
    "Sources\n",
    "1. https://www.kaggle.com/c/talkingdata-adtracking-fraud-detection/discussion/56014\n",
    "2. https://npyi.readthedocs.io/en/latest/\n",
    "3. https://stackoverflow.com/questions/16476924/how-to-iterate-over-rows-in-a-dataframe-in-pandas"
   ]
  }
 ],
 "metadata": {
  "environment": {
   "name": "tf2-2-3-gpu.2-3.m59",
   "type": "gcloud",
   "uri": "gcr.io/deeplearning-platform-release/tf2-2-3-gpu.2-3:m59"
  },
  "kernelspec": {
   "display_name": "Python 3",
   "language": "python",
   "name": "python3"
  },
  "language_info": {
   "codemirror_mode": {
    "name": "ipython",
    "version": 3
   },
   "file_extension": ".py",
   "mimetype": "text/x-python",
   "name": "python",
   "nbconvert_exporter": "python",
   "pygments_lexer": "ipython3",
   "version": "3.7.4"
  }
 },
 "nbformat": 4,
 "nbformat_minor": 4
}
